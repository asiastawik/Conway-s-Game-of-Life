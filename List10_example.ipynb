{
 "cells": [
  {
   "cell_type": "code",
   "execution_count": 6,
   "id": "4ab28847",
   "metadata": {},
   "outputs": [],
   "source": [
    "import numpy as np\n",
    "import matplotlib.pyplot as plt\n",
    "import matplotlib.animation as animation\n",
    "from time import time, sleep\n",
    "\n",
    "global data\n",
    "frames = 50\n",
    "data = np.array([[0, 1, 2], [1, 2, 3], [2, 3, 6.1]])\n",
    "def update_data():\n",
    "    data[1, :] *= 1.01 #multiplies the second row of the data array by 1.01\n",
    "fig = plt.figure()\n",
    "im = plt.imshow(data) #creates an image plot \n",
    "def update(frame):\n",
    "    update_data()\n",
    "    im.set_data(data)\n",
    "    plt.title(frame)\n",
    "    if frame == frames-1: #If the current frame is the last frame, it pauses the animation for 5 seconds \n",
    "        sleep(5)\n",
    "        plt.close()\n",
    "    return im\n",
    "ani = animation.FuncAnimation(fig=fig, func=update, frames=frames, interval=100)\n",
    "result = 'save'\n",
    "if result == 'show':\n",
    "    plt.show()\n",
    "else:\n",
    "    # optionally, save, for example as html\n",
    "    ani.save(filename='animation.html', writer='html')"
   ]
  },
  {
   "cell_type": "code",
   "execution_count": null,
   "id": "1e88b89d",
   "metadata": {},
   "outputs": [],
   "source": []
  },
  {
   "cell_type": "code",
   "execution_count": null,
   "id": "f200bc2e",
   "metadata": {},
   "outputs": [],
   "source": []
  },
  {
   "cell_type": "code",
   "execution_count": null,
   "id": "fd6663ad",
   "metadata": {},
   "outputs": [],
   "source": []
  }
 ],
 "metadata": {
  "kernelspec": {
   "display_name": "Python 3 (ipykernel)",
   "language": "python",
   "name": "python3"
  },
  "language_info": {
   "codemirror_mode": {
    "name": "ipython",
    "version": 3
   },
   "file_extension": ".py",
   "mimetype": "text/x-python",
   "name": "python",
   "nbconvert_exporter": "python",
   "pygments_lexer": "ipython3",
   "version": "3.9.13"
  }
 },
 "nbformat": 4,
 "nbformat_minor": 5
}
